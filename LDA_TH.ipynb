{
 "cells": [
  {
   "cell_type": "code",
   "execution_count": 1,
   "id": "337f821c",
   "metadata": {},
   "outputs": [
    {
     "name": "stdout",
     "output_type": "stream",
     "text": [
      "OK !\n"
     ]
    }
   ],
   "source": [
    "#Default\n",
    "import pandas as pd\n",
    "pd.options.display.float_format = '{:,}'.format\n",
    "from IPython.core.interactiveshell import InteractiveShell\n",
    "InteractiveShell.ast_node_interactivity = \"all\"\n",
    "def reset(df):\n",
    "    cols = df.columns\n",
    "    return df.reset_index()[cols]\n",
    "def print_counts(df):\n",
    "    cols = df.columns\n",
    "    for each in cols:\n",
    "        print(each)\n",
    "        print(df[each].value_counts())\n",
    "        print('______________________________________')\n",
    "\n",
    "# ~\n",
    "#Default Ending\n",
    "\n",
    "import time\n",
    "\n",
    "import lda\n",
    "import lda.datasets\n",
    "from pythainlp.tokenize import word_tokenize\n",
    "from sklearn.feature_extraction.text import CountVectorizer, TfidfVectorizer\n",
    "from string import punctuation\n",
    "import numpy as np\n",
    "\n",
    "print('OK !')"
   ]
  },
  {
   "cell_type": "code",
   "execution_count": 2,
   "id": "06fc1360",
   "metadata": {},
   "outputs": [],
   "source": [
    "# !pip install lda"
   ]
  },
  {
   "cell_type": "code",
   "execution_count": 3,
   "id": "8f9cb855",
   "metadata": {},
   "outputs": [],
   "source": [
    "def canonicalize(string):\n",
    "    normalized_tokens = list()\n",
    "    a = word_tokenize(string, engine = 'newmm')\n",
    "    for j in a:\n",
    "        token = j.strip()\n",
    "        #Add clean statement here \n",
    "        if len(token) > 1 and token not in set(punctuation) and token not in ['..','...','ๆๆ']:\n",
    "            try:\n",
    "                normalized_tokens.append(token.lower())\n",
    "            except:\n",
    "                normalized_tokens.append(token)\n",
    "                pass\n",
    "    return normalized_tokens"
   ]
  },
  {
   "cell_type": "code",
   "execution_count": 4,
   "id": "42d4aac1",
   "metadata": {},
   "outputs": [],
   "source": [
    "data = pd.read_csv('data/clean_sample_text.csv')"
   ]
  },
  {
   "cell_type": "code",
   "execution_count": 5,
   "id": "540f51a4",
   "metadata": {},
   "outputs": [
    {
     "name": "stdout",
     "output_type": "stream",
     "text": [
      "OK\n"
     ]
    }
   ],
   "source": [
    "# We pass in our tokenizer to the vectorizer object.\n",
    "\n",
    "# tfidf_vectorizer = TfidfVectorizer(tokenizer=canonicalize, sublinear_tf=True)\n",
    "# tf_vectorizer = CountVectorizer(tokenizer=canonicalize)\n",
    "cv = CountVectorizer(tokenizer=canonicalize)\n",
    "\n",
    "print('OK')"
   ]
  },
  {
   "cell_type": "code",
   "execution_count": 6,
   "id": "443cd9c8",
   "metadata": {},
   "outputs": [
    {
     "name": "stdout",
     "output_type": "stream",
     "text": [
      "Took 0.75 sec\n"
     ]
    },
    {
     "name": "stderr",
     "output_type": "stream",
     "text": [
      "/opt/anaconda3/envs/py37_text_sum/lib/python3.7/site-packages/sklearn/utils/deprecation.py:87: FutureWarning: Function get_feature_names is deprecated; get_feature_names is deprecated in 1.0 and will be removed in 1.2. Please use get_feature_names_out instead.\n",
      "  warnings.warn(msg, category=FutureWarning)\n"
     ]
    }
   ],
   "source": [
    "start = time.time()\n",
    "\n",
    "# tf_term_document_matrix = tf_vectorizer.fit_transform(data['content'])\n",
    "tdata = cv.fit_transform(data['content'])\n",
    "X = tdata.toarray()\n",
    "vocab = cv.get_feature_names()\n",
    "\n",
    "print(\"Took \" + \"%.2f\" % float(time.time() - start) + \" sec\")"
   ]
  },
  {
   "cell_type": "code",
   "execution_count": 7,
   "id": "4cccb84a",
   "metadata": {},
   "outputs": [],
   "source": [
    "model = lda.LDA(n_topics=40, n_iter=1500, random_state=1)"
   ]
  },
  {
   "cell_type": "code",
   "execution_count": 8,
   "id": "88405962",
   "metadata": {
    "scrolled": true
   },
   "outputs": [
    {
     "name": "stderr",
     "output_type": "stream",
     "text": [
      "INFO:lda:n_documents: 2924\n",
      "INFO:lda:vocab_size: 8805\n",
      "INFO:lda:n_words: 66535\n",
      "INFO:lda:n_topics: 40\n",
      "INFO:lda:n_iter: 1500\n",
      "INFO:lda:<0> log likelihood: -870552\n",
      "INFO:lda:<10> log likelihood: -574510\n",
      "INFO:lda:<20> log likelihood: -552917\n",
      "INFO:lda:<30> log likelihood: -543878\n",
      "INFO:lda:<40> log likelihood: -538033\n",
      "INFO:lda:<50> log likelihood: -534530\n",
      "INFO:lda:<60> log likelihood: -532987\n",
      "INFO:lda:<70> log likelihood: -531073\n",
      "INFO:lda:<80> log likelihood: -529734\n",
      "INFO:lda:<90> log likelihood: -528869\n",
      "INFO:lda:<100> log likelihood: -528629\n",
      "INFO:lda:<110> log likelihood: -527043\n",
      "INFO:lda:<120> log likelihood: -526699\n",
      "INFO:lda:<130> log likelihood: -526239\n",
      "INFO:lda:<140> log likelihood: -525208\n",
      "INFO:lda:<150> log likelihood: -524780\n",
      "INFO:lda:<160> log likelihood: -524520\n",
      "INFO:lda:<170> log likelihood: -524932\n",
      "INFO:lda:<180> log likelihood: -524339\n",
      "INFO:lda:<190> log likelihood: -524183\n",
      "INFO:lda:<200> log likelihood: -523742\n",
      "INFO:lda:<210> log likelihood: -523349\n",
      "INFO:lda:<220> log likelihood: -523261\n",
      "INFO:lda:<230> log likelihood: -523242\n",
      "INFO:lda:<240> log likelihood: -523553\n",
      "INFO:lda:<250> log likelihood: -523026\n",
      "INFO:lda:<260> log likelihood: -523198\n",
      "INFO:lda:<270> log likelihood: -523301\n",
      "INFO:lda:<280> log likelihood: -522990\n",
      "INFO:lda:<290> log likelihood: -523024\n",
      "INFO:lda:<300> log likelihood: -522742\n",
      "INFO:lda:<310> log likelihood: -522495\n",
      "INFO:lda:<320> log likelihood: -522808\n",
      "INFO:lda:<330> log likelihood: -522278\n",
      "INFO:lda:<340> log likelihood: -521732\n",
      "INFO:lda:<350> log likelihood: -521940\n",
      "INFO:lda:<360> log likelihood: -521788\n",
      "INFO:lda:<370> log likelihood: -521617\n",
      "INFO:lda:<380> log likelihood: -521948\n",
      "INFO:lda:<390> log likelihood: -521680\n",
      "INFO:lda:<400> log likelihood: -522345\n",
      "INFO:lda:<410> log likelihood: -522302\n",
      "INFO:lda:<420> log likelihood: -522100\n",
      "INFO:lda:<430> log likelihood: -521986\n",
      "INFO:lda:<440> log likelihood: -522137\n",
      "INFO:lda:<450> log likelihood: -521593\n",
      "INFO:lda:<460> log likelihood: -521778\n",
      "INFO:lda:<470> log likelihood: -521827\n",
      "INFO:lda:<480> log likelihood: -522458\n",
      "INFO:lda:<490> log likelihood: -521989\n",
      "INFO:lda:<500> log likelihood: -520890\n",
      "INFO:lda:<510> log likelihood: -521429\n",
      "INFO:lda:<520> log likelihood: -520746\n",
      "INFO:lda:<530> log likelihood: -520978\n",
      "INFO:lda:<540> log likelihood: -521119\n",
      "INFO:lda:<550> log likelihood: -521857\n",
      "INFO:lda:<560> log likelihood: -521175\n",
      "INFO:lda:<570> log likelihood: -521216\n",
      "INFO:lda:<580> log likelihood: -521400\n",
      "INFO:lda:<590> log likelihood: -521599\n",
      "INFO:lda:<600> log likelihood: -521195\n",
      "INFO:lda:<610> log likelihood: -521404\n",
      "INFO:lda:<620> log likelihood: -521362\n",
      "INFO:lda:<630> log likelihood: -522163\n",
      "INFO:lda:<640> log likelihood: -521432\n",
      "INFO:lda:<650> log likelihood: -520859\n",
      "INFO:lda:<660> log likelihood: -521628\n",
      "INFO:lda:<670> log likelihood: -521557\n",
      "INFO:lda:<680> log likelihood: -521738\n",
      "INFO:lda:<690> log likelihood: -521382\n",
      "INFO:lda:<700> log likelihood: -521863\n",
      "INFO:lda:<710> log likelihood: -521776\n",
      "INFO:lda:<720> log likelihood: -521973\n",
      "INFO:lda:<730> log likelihood: -521235\n",
      "INFO:lda:<740> log likelihood: -521382\n",
      "INFO:lda:<750> log likelihood: -521824\n",
      "INFO:lda:<760> log likelihood: -521619\n",
      "INFO:lda:<770> log likelihood: -521703\n",
      "INFO:lda:<780> log likelihood: -521126\n",
      "INFO:lda:<790> log likelihood: -521772\n",
      "INFO:lda:<800> log likelihood: -521373\n",
      "INFO:lda:<810> log likelihood: -521273\n",
      "INFO:lda:<820> log likelihood: -520583\n",
      "INFO:lda:<830> log likelihood: -521439\n",
      "INFO:lda:<840> log likelihood: -521042\n",
      "INFO:lda:<850> log likelihood: -521043\n",
      "INFO:lda:<860> log likelihood: -521004\n",
      "INFO:lda:<870> log likelihood: -521571\n",
      "INFO:lda:<880> log likelihood: -520960\n",
      "INFO:lda:<890> log likelihood: -521657\n",
      "INFO:lda:<900> log likelihood: -521631\n",
      "INFO:lda:<910> log likelihood: -521089\n",
      "INFO:lda:<920> log likelihood: -521213\n",
      "INFO:lda:<930> log likelihood: -521421\n",
      "INFO:lda:<940> log likelihood: -521257\n",
      "INFO:lda:<950> log likelihood: -521256\n",
      "INFO:lda:<960> log likelihood: -520661\n",
      "INFO:lda:<970> log likelihood: -520975\n",
      "INFO:lda:<980> log likelihood: -521029\n",
      "INFO:lda:<990> log likelihood: -521009\n",
      "INFO:lda:<1000> log likelihood: -521136\n",
      "INFO:lda:<1010> log likelihood: -520476\n",
      "INFO:lda:<1020> log likelihood: -520981\n",
      "INFO:lda:<1030> log likelihood: -520958\n",
      "INFO:lda:<1040> log likelihood: -521544\n",
      "INFO:lda:<1050> log likelihood: -521248\n",
      "INFO:lda:<1060> log likelihood: -521495\n",
      "INFO:lda:<1070> log likelihood: -521107\n",
      "INFO:lda:<1080> log likelihood: -521961\n",
      "INFO:lda:<1090> log likelihood: -521404\n",
      "INFO:lda:<1100> log likelihood: -521157\n",
      "INFO:lda:<1110> log likelihood: -520333\n",
      "INFO:lda:<1120> log likelihood: -520814\n",
      "INFO:lda:<1130> log likelihood: -520658\n",
      "INFO:lda:<1140> log likelihood: -521152\n",
      "INFO:lda:<1150> log likelihood: -521213\n",
      "INFO:lda:<1160> log likelihood: -520829\n",
      "INFO:lda:<1170> log likelihood: -521546\n",
      "INFO:lda:<1180> log likelihood: -521211\n",
      "INFO:lda:<1190> log likelihood: -520904\n",
      "INFO:lda:<1200> log likelihood: -521382\n",
      "INFO:lda:<1210> log likelihood: -521245\n",
      "INFO:lda:<1220> log likelihood: -521370\n",
      "INFO:lda:<1230> log likelihood: -521191\n",
      "INFO:lda:<1240> log likelihood: -520903\n",
      "INFO:lda:<1250> log likelihood: -520650\n",
      "INFO:lda:<1260> log likelihood: -521239\n",
      "INFO:lda:<1270> log likelihood: -521226\n",
      "INFO:lda:<1280> log likelihood: -521282\n",
      "INFO:lda:<1290> log likelihood: -520826\n",
      "INFO:lda:<1300> log likelihood: -521423\n",
      "INFO:lda:<1310> log likelihood: -521384\n",
      "INFO:lda:<1320> log likelihood: -521156\n",
      "INFO:lda:<1330> log likelihood: -520632\n",
      "INFO:lda:<1340> log likelihood: -520860\n",
      "INFO:lda:<1350> log likelihood: -521415\n",
      "INFO:lda:<1360> log likelihood: -521215\n",
      "INFO:lda:<1370> log likelihood: -521042\n",
      "INFO:lda:<1380> log likelihood: -520727\n",
      "INFO:lda:<1390> log likelihood: -521339\n",
      "INFO:lda:<1400> log likelihood: -521108\n",
      "INFO:lda:<1410> log likelihood: -521631\n",
      "INFO:lda:<1420> log likelihood: -521371\n",
      "INFO:lda:<1430> log likelihood: -521195\n",
      "INFO:lda:<1440> log likelihood: -521336\n",
      "INFO:lda:<1450> log likelihood: -521463\n",
      "INFO:lda:<1460> log likelihood: -520676\n",
      "INFO:lda:<1470> log likelihood: -521434\n",
      "INFO:lda:<1480> log likelihood: -521459\n",
      "INFO:lda:<1490> log likelihood: -520911\n",
      "INFO:lda:<1499> log likelihood: -520576\n"
     ]
    },
    {
     "name": "stdout",
     "output_type": "stream",
     "text": [
      "CPU times: user 13.7 s, sys: 156 ms, total: 13.8 s\n",
      "Wall time: 13.8 s\n"
     ]
    },
    {
     "data": {
      "text/plain": [
       "<lda.lda.LDA at 0x7f834e7a7dd0>"
      ]
     },
     "execution_count": 8,
     "metadata": {},
     "output_type": "execute_result"
    }
   ],
   "source": [
    "%time model.fit(X)"
   ]
  },
  {
   "cell_type": "code",
   "execution_count": 9,
   "id": "e1ba411a",
   "metadata": {},
   "outputs": [],
   "source": [
    "topic_word = model.topic_word_"
   ]
  },
  {
   "cell_type": "code",
   "execution_count": 10,
   "id": "69d9a323",
   "metadata": {},
   "outputs": [],
   "source": [
    "n_top_words = 12"
   ]
  },
  {
   "cell_type": "code",
   "execution_count": 11,
   "id": "d14d1ed9",
   "metadata": {},
   "outputs": [
    {
     "name": "stdout",
     "output_type": "stream",
     "text": [
      "Topic 0: โครงการ ที่ สามารถ เข้า บาท ต่อ ได้ หรือ วงเงิน ธนาคาร ปี ล้าน\n",
      "Topic 1: ล้าน บาท คน หมื่น แสน 100 พร้อม ขาย นิ ละ 15 พัน\n",
      "Topic 2: ใน และ ที่ การ ของ มี เป็น ได้ ไม่ โดย จาก กับ\n",
      "Topic 3: หยุด แล้ว วัน ประกาศ ไหม ดอย จ้า 555 เค้า เขา พี่ ตาม\n",
      "Topic 4: ไม่ ได้ แล้ว ว่า จะ มี ยัง ทำ เลย ก็ ไป อะไร\n",
      "Topic 5: พระ ทรง เจริญ ยิ่ง ขอ ยืน นาน พระองค์ ยืนนาน แข็งแรง สำราญ เกษม\n",
      "Topic 6: งาน ใน ธุรกิจ รับ ภาค และ ฟรี ธนาคารแห่งประเทศไทย วิชาการ ผ่าน ทาง สัมมนา\n",
      "Topic 7: งง หยุด 5555 555 55555 ละ เห ดีใจ เลย ชา 55 กะ\n",
      "Topic 8: ที่ จาก การ เศรษฐกิจ ไทย ใน เดือน ปรับ ยัง สูง มาตรการ ตาม\n",
      "Topic 9: ครับ จะ ดี น่า นี้ กว่า ช่วย กัน ​ๆ​ มา ขึ้น มาก\n",
      "Topic 10: ช่วย ค่ะ ค่า แก้ ด้วย หนี้ มาก ไหม ทั้ง โครงการ ไฟ คะ\n",
      "Topic 11: ครับ ได้ เรื่อง จะ แล้ว ถาม สอบ นะ เรียน ธนบัตร ทราบ ด้วย\n",
      "Topic 12: สาธุ ค่ะ อนุโมทนา บุญ ด้วย ขอ มิ ครับ โม กราบ อนุ ทา\n",
      "Topic 13: เท หรอ ก้อ good ​น รี ​ๆ​ๆ มิ hello เห็น แหละ จ.\n",
      "Topic 14: :// https www ?? com th ได้ที่ youtube terrabkk line co or\n",
      "Topic 15: ที่ จุด หุ้น มี จะ ไทย ก.ย. ดัชนี แต่ หาก การเมือง กลุ่ม\n",
      "Topic 16: ด้วย เป็น ดี ไท ชัย วิร และ ผู้ ผู้ว่าการ พนักงาน สันติ ดร.\n",
      "Topic 17: ที่ เรา ว่า มี คือ เป็น หรือ นี้ ต้อง ให้ ใหม่ ทำ\n",
      "Topic 18: the of to in and my economic 2020 every me live would\n",
      "Topic 19: ทางการเงิน การ ที่ และ ดิจิทัล ด้าน สร้าง ใช้ เทคโนโลยี โครงการ ดี ภาค\n",
      "Topic 20: ประเทศ เงิน ให้ มี ไทย ธนาคาร ไม่ แห่ง ทุก มา ทำ ระบบ\n",
      "Topic 21: ได้ กู้ ระบบ ที่ ช่วย มี แบงค์ หา ราย นอก เพราะ ไม่\n",
      "Topic 22: ไป ไหน เย้ ดี สิ ตา กิน วัน แม่ เที่ยว อิอิ ลิ\n",
      "Topic 23: you in and of account profit is are the interested trusted with\n",
      "Topic 24: การ มี งาน ให้ ไป ประชาชน ควร ต่อ ​พอ​ ก็ ตาม มาตรา\n",
      "Topic 25: ดอกเบี้ย ไม่ ปี ปล่อย สินเชื่อ บัตร เงิน กู้ และ ฝาก เกิน เงินสด\n",
      "Topic 26: คะ นะ รู้ ดู ลอง มั้ย ​คน​ จริง ริ รึ เขียน กา\n",
      "Topic 27: ใน อัตราดอกเบี้ย การ ของ และ เป็น ไทย ที่ อ้างอิง ตลาด thor การเงิน\n",
      "Topic 28: และ การ ของ เศรษฐกิจ ใน การเงิน นโยบาย ต่อ อย่าง ไทย 19 ให้\n",
      "Topic 29: หรือ 1213 ครับ ที่ เพื่อ ข้อมูล หาก ติดต่อ ให้ ร. ไม่ สามารถ\n",
      "Topic 30: เงิน ใช้ มี ต้อง ค่า มา ตลาด จะ ราคา ไป ใน ทองคำ\n",
      "Topic 31: หนี้ ลูกหนี้ ที่ สินเชื่อ มี มาตรการ และ เป็น ช่วยเหลือ ให้ ได้ กับ\n",
      "Topic 32: ชีวิต bot คุณ จาก พระ ไทย องค์กร สยาม กุล เมือง จัด ปลอดภัย\n",
      "Topic 33: ไม่ ธนาคาร ค่ะ มา เลย เรา ยัง แต่ ไป ให้ ทำ ต้อง\n",
      "Topic 34: ของ ก็ จะ ปี ลง มา กลุ่ม ไป ช่วง คือ โควิด ตัว\n",
      "Topic 35: แบงก์ ชาติ https ly :// bit ที่ ครับ และ ของ อ่าน นี้\n",
      "Topic 36: แบ ​ง​ค์ นี้ ครับ ชาติ เลย มาก มัน กับ เหมือน ฟ้อง อยู่\n",
      "Topic 37: ไม่ ก็ จะ ได้ มี ถ้า มัน เป็น ไป ว่า ดี นะ\n",
      "Topic 38: ครับ ขอ ผม ขอบคุณ มาก นะ ท่าน ใช่ ไหม แชร์ สนใจ ได้\n",
      "Topic 39: ไม่ หนี้ ไป จ่าย จะ ให้ ก็ ชำระ แล้ว เดือน ได้ แต่\n"
     ]
    }
   ],
   "source": [
    "for i, topic_dist in enumerate(topic_word):\n",
    "    topic_words = np.array(vocab)[np.argsort(topic_dist)][:-(n_top_words+1):-1]\n",
    "    print('Topic {}: {}'.format(i, ' '.join(topic_words)))"
   ]
  },
  {
   "cell_type": "code",
   "execution_count": 12,
   "id": "3fe54b64",
   "metadata": {},
   "outputs": [
    {
     "name": "stdout",
     "output_type": "stream",
     "text": [
      "โดน​ค่า ATS 14\n",
      "  บาท​กับ​หุ้น​อยู่​เลย (top topic: 4)\n",
      "\n",
      "ถ้า​ตาม​นิยาม​นี้\n",
      "  การ​ผูก​บัตร​เครดิต​กับ​แอ​พ ถือว่า​เป็นการ​เปลี่ยน instrument จาก card เป็น\n",
      "  mobile banking (แม้​ว่า​จะ​เป็นการ​จ่าย​แบบ credit เหมือน​เดิม)\n",
      "  ถูก​ต้อง​มั้ยครับ ? (top topic: 17)\n",
      "\n",
      "ไร้​เงินสด เครดิต​ก็​ไม่​มี\n",
      "  หนี้​นอก​ระบบ​ดอก​ร้อย​ละ​ร้อย (top topic: 21)\n",
      "\n",
      "ถั่ว​ต้ม​เลย ไร้​เงินสด\n",
      "  ไร้​ของ​จะ​กิน (top topic: 34)\n",
      "\n",
      "อยากให้ลดข้อแม้ในการเข้าถึงแหล่งเงินทุนของสถาบันการเงินต่างๆ บ้าง หนี้เสียน่าจะลดลง คนเป็นหนี้ไม่มีความสุขในการเป็นหนี้หรอกครับเพียงแต่ยังไม่สามารถชำระได้ จะรวมหนี้มาจ่ายที่เดียวเพื่อจะได้มีกำลังจ่ายได้ก็ติดเรื่องคุณสมบัติโดยเฉพาะแบลคลิสต์อีก หนี้ก็เลยเป็นหนี้เสียอย่างทุกวันนี้ (top topic: 39)\n",
      "\n",
      "เห็น​ด้วย​ครับ (top topic: 12)\n",
      "\n",
      "เรื่อง​บัตร​เครดิต​คิด​ดอกเบี้ย​แพง\n",
      "  เช่น เรา​เป็น​หนี้ 5000 ตัด​ยอด​จ่าย​4000 อีก​1000 จ่าย​รอบ​ถัด​ไป\n",
      "  ทำไม​ต้อง​คิด​ดอกเบี้ย​ทั้ง​5000 ทำ​ไม่​คิด​ดอกเบี้ย แค่​1000 บาท​ที่​เหลือ\n",
      "  #ธนาคารแห่งประเทศไทย (top topic: 25)\n",
      "\n",
      "บนโลกใบนี้ ทุกคนเกิดมา ไม่มีใครเอาเงินติดตัวมาด้วย เราทุกคน ทุกท่าน ทุกอาชีพ ทุกประเทศ ทุกพรรคการเมือง ทุกฝ่าย ต่างช่วยกันทำงาน เพื่อตัวเอง พอตัวเองมีเงิน มีรายได้ เป็นเรื่องปกติ ที่จะแบ่งปันให้คนอื่น สำหรับผม เรื่องการเงิน เป็นเรื่องที่ผมทำขึ้น เพื่อทุกคน ตั้งแต่มีระบบการเงินเกิดขึ้นครั้งแรก บนโลก หรือ อื่นๆ ผมได้สร้างระบบการเงินไว้ ให้ทุกคน  ทำงาน มีเงินมีรายได้ใช้จ่าย ไม่ได้สร้างระบบการเงินไว้ให้ ทุกคน เป็นหนี้ในระบบ นอกระบบ ผมเข้าใจ หลายคน หลายท่าน ไม่ชอบ ในสิ่งที่ผมทำ กลัวว่า คนมีเงินแล้วจะไม่ทำงาน ไม่ค้าขาย ไม่ผลิตสินค้า ผลิตสิ่งของ หรือ ไม่พัฒนาประเทศ หลายรัฐบาล หลายประเทศ มีโรงงานผลิตเงินผลิตธนบัตรถูกกฎหมาย ผมเห็น ผมสัมผัส ระบบการเงิน มาหลายระบบ การแก้ไขปัญหาหนี้สินในระบบ นอกระบบ ผมได้ แนะนำ แนวทางไว้ให้แล้ว ขึ้นอยู่กับทุกคน ตัวบุคคล รัฐบาล ผู้บริหาร เจ้าหน้าที่ ธนาคารสถาบันการเงิน ทุกแห่ง จะนำไปใช้ ไปปฏิบัติ ไม่กู้เงิน ไม่ขอสินเชื่อ ไม่ปล่อยสินเชื่อ ในระบบนอกระบบ ทุกคนไม่กู้เงิน ทำแบบนี้ไม่มีใครเป็นหนี้ในระบบนอกระบบ ทุกคนมีเงินมีรายได้ใช้จ่าย รวยทุกคน คนทุกคน เกิดมาร่างกายสมบูรณ์แข็งแรง เป็นคนดีทุกคน ทั้งชีวิต ทุกคน ไม่ทำร้ายตัวเอง ไม่ทำร้ายผู้อื่น ความคิด พฤติกรรม การกระทำ ทุกคนทำแบบนี้ได้ทั้งชีวิต ทุกคนมีความสงบสุข ทุกพื้นที่ มีความสงบสุข ทุกประเทศมีความสงบสุข ผมให้ทุกคน เป็นเจ้าของโรงงานผลิตเงิน ผลิตธนบัตรถูกกฎหมายทุกแห่ง เป็นเจ้าของระบบการเงินทุกระบบ ทำแบบนี้ไม่มีใครทุจริต ไม่มีใครเป็นหนี้ในระบบนอกระบบ ทุกคนมีเงินมีรายได้ใช้จ่าย รวยทุกคน รวยทุกประเทศ ธนาคารสถาบันการเงินโรงงานผลิตเงินผลิตธนบัตรถูกกฎหมายทุกแห่ง มีหน้าที่ผลิตเงินผลิตธนบัตรถูกกฎหมาย ให้ทุกคนมีเงินมีรายได้ใช้จ่าย มีเงินซื้อสินค้า มีเงินชำระภาษี มีเงินชำระหนี้ เป็นเรื่องปกติ แต่ที่ไม่ปกติ คือ ไม่อนุมัติเงิน ไม่จ่ายเงิน ให้ผม ให้ทุกคน เป็นเรื่องที่ผิดกฎหมาย ไม่ปกติ ขอความกรุณา ทุกท่าน ผู้บริหาร เจ้าหน้าที่ ธนาคาร สถาบันการเงิน โรงงานผลิตเงินผลิตธนบัตรถูกกฎหมายทุกแห่ง รัฐบาลทุกรัฐบาล ผู้บริหาร เจ้าหน้าที่ทุกคนทุกท่าน  อนุมัติเงินให้ผม อนุมัติเงินให้ทุกคนมีเงินมีรายได้ใช้จ่าย คนละ 500,000,000 บาท เข้าบัญชีทุกคน เพื่อใช้จ่าย ซื้อขายสินค้า ทำแบบนี้ เป็นเรื่องปกติ เป็นเรื่องถูกกฎหมาย ขอให้ทุกคน ทุกท่านเข้าใจ ระบบการเงิน การประหยัด การออกเงิน เป็นเรื่องที่ดี เรื่องที่ดีกว่า คือ การสร้างทรัพยากรธรรมชาติ สร้างทรัพย์สิน การพัฒนาที่ดินที่อยู่อาศัย แหล่งน้ำทำการเกษตร ปลูกต้นไม้ที่สามารถนำมา สร้างที่อยู่อาศัยได้ ต้นไม้ตัดปลูกทดแทนได้ ภูเขาสร้างปลูกทดแทนไม่ได้ การทำการเกษตร เป็นการสร้างทรัพยากรธรรมชาติ สร้างทรัพย์สิน ให้คน มนุษย์ สรรพสัตว์ มีอาหารรับประทาน มีที่ดินที่อยู่อาศัย ทุกคนทุกท่านเกิดมาเพื่อช่วยกันทำงาน ขอบคุณครับ โทร.0862221222 นายเมฆิน ศิริโสม (top topic: 20)\n",
      "\n",
      "พอใช้​เงิน​ผ่าน​แอ​พ แต่​ดัน​ทะลึ่ง​ตรวจ​สอบ\n",
      "  transaction ประชาชน (top topic: 24)\n",
      "\n",
      "ถ้า​เป็น​หนี้​นอก​ระบบ​ร่วม​ด้วย\n",
      "  จะ​สามารถ​เข้า​ร่วม​โครงการ​ได้​ไหม​ค่ะ (top topic: 10)\n",
      "\n"
     ]
    }
   ],
   "source": [
    "doc_topic = model.doc_topic_\n",
    "for i in range(10):\n",
    "    print(\"{} (top topic: {})\".format(data['content'].values[i], doc_topic[i].argmax()))\n",
    "    print()"
   ]
  }
 ],
 "metadata": {
  "kernelspec": {
   "display_name": "Python [conda env:py37_text_sum]",
   "language": "python",
   "name": "conda-env-py37_text_sum-py"
  },
  "language_info": {
   "codemirror_mode": {
    "name": "ipython",
    "version": 3
   },
   "file_extension": ".py",
   "mimetype": "text/x-python",
   "name": "python",
   "nbconvert_exporter": "python",
   "pygments_lexer": "ipython3",
   "version": "3.7.13"
  }
 },
 "nbformat": 4,
 "nbformat_minor": 5
}
